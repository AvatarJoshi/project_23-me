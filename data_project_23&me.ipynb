{
 "cells": [
  {
   "cell_type": "code",
   "execution_count": 1,
   "metadata": {},
   "outputs": [
    {
     "ename": "ModuleNotFoundError",
     "evalue": "No module named 'pandas'",
     "output_type": "error",
     "traceback": [
      "\u001b[0;31m---------------------------------------------------------------------------\u001b[0m",
      "\u001b[0;31mModuleNotFoundError\u001b[0m                       Traceback (most recent call last)",
      "\u001b[1;32m/Users/avatarjoshi/Desktop/DataLand/r2_project_23-me/data_project_23&me.ipynb Cell 1\u001b[0m in \u001b[0;36m<cell line: 3>\u001b[0;34m()\u001b[0m\n\u001b[1;32m      <a href='vscode-notebook-cell:/Users/avatarjoshi/Desktop/DataLand/r2_project_23-me/data_project_23%26me.ipynb#W0sZmlsZQ%3D%3D?line=0'>1</a>\u001b[0m \u001b[39mimport\u001b[39;00m \u001b[39mos\u001b[39;00m\n\u001b[1;32m      <a href='vscode-notebook-cell:/Users/avatarjoshi/Desktop/DataLand/r2_project_23-me/data_project_23%26me.ipynb#W0sZmlsZQ%3D%3D?line=1'>2</a>\u001b[0m \u001b[39mfrom\u001b[39;00m \u001b[39mglob\u001b[39;00m \u001b[39mimport\u001b[39;00m glob\n\u001b[0;32m----> <a href='vscode-notebook-cell:/Users/avatarjoshi/Desktop/DataLand/r2_project_23-me/data_project_23%26me.ipynb#W0sZmlsZQ%3D%3D?line=2'>3</a>\u001b[0m \u001b[39mimport\u001b[39;00m \u001b[39mpandas\u001b[39;00m \u001b[39mas\u001b[39;00m \u001b[39mpd\u001b[39;00m\n\u001b[1;32m      <a href='vscode-notebook-cell:/Users/avatarjoshi/Desktop/DataLand/r2_project_23-me/data_project_23%26me.ipynb#W0sZmlsZQ%3D%3D?line=3'>4</a>\u001b[0m \u001b[39mimport\u001b[39;00m \u001b[39mnumpy\u001b[39;00m \u001b[39mas\u001b[39;00m \u001b[39mnp\u001b[39;00m\n\u001b[1;32m      <a href='vscode-notebook-cell:/Users/avatarjoshi/Desktop/DataLand/r2_project_23-me/data_project_23%26me.ipynb#W0sZmlsZQ%3D%3D?line=4'>5</a>\u001b[0m \u001b[39mimport\u001b[39;00m \u001b[39mmatplotlib\u001b[39;00m \u001b[39mas\u001b[39;00m \u001b[39mmp\u001b[39;00m\n",
      "\u001b[0;31mModuleNotFoundError\u001b[0m: No module named 'pandas'"
     ]
    }
   ],
   "source": [
    "import os\n",
    "from glob import glob\n",
    "import pandas as pd\n",
    "import numpy as np\n",
    "import matplotlib as mp"
   ]
  },
  {
   "cell_type": "code",
   "execution_count": null,
   "metadata": {},
   "outputs": [],
   "source": [
    "# Get all csv files from the datasets folder\n",
    "# https://perials.com/getting-csv-files-directory-subdirectories-using-python/\n",
    "PATH = \"./datasets\"\n",
    "EXT = \"*.csv\"\n",
    "all_csv_files = []\n",
    "for path, subdir, files in os.walk(PATH):\n",
    "    for file in glob(os.path.join(path, EXT)):\n",
    "        all_csv_files.append(file)"
   ]
  },
  {
   "cell_type": "code",
   "execution_count": null,
   "metadata": {},
   "outputs": [
    {
     "data": {
      "text/plain": [
       "['./datasets/sales_week_starting_2013-01-07.csv',\n",
       " './datasets/sales_week_starting_2012-12-24.csv',\n",
       " './datasets/sales_week_starting_2012-12-31.csv',\n",
       " './datasets/sales_week_starting_2013-04-22.csv',\n",
       " './datasets/sales_week_starting_2012-10-08.csv',\n",
       " './datasets/sales_week_starting_2012-10-22.csv',\n",
       " './datasets/sales_week_starting_2013-04-08.csv',\n",
       " './datasets/sales_week_starting_2013-06-24.csv',\n",
       " './datasets/sales_week_starting_2013-08-19.csv',\n",
       " './datasets/sales_week_starting_2013-03-04.csv',\n",
       " './datasets/sales_week_starting_2013-03-11.csv',\n",
       " './datasets/sales_week_starting_2013-01-28.csv',\n",
       " './datasets/sales_week_starting_2013-01-14.csv',\n",
       " './datasets/sales_week_starting_2013-08-26.csv',\n",
       " './datasets/sales_week_starting_2013-09-02.csv',\n",
       " './datasets/sales_week_starting_2013-05-06.csv',\n",
       " './datasets/sales_week_starting_2012-11-05.csv',\n",
       " './datasets/sales_week_starting_2013-05-13.csv',\n",
       " './datasets/sales_week_starting_2013-02-18.csv',\n",
       " './datasets/sales_week_starting_2013-07-29.csv',\n",
       " './datasets/sales_week_starting_2013-07-15.csv',\n",
       " './datasets/sales_week_starting_2013-07-01.csv',\n",
       " './datasets/sales_week_starting_2012-11-12.csv',\n",
       " './datasets/sales_week_starting_2013-02-25.csv',\n",
       " './datasets/sales_week_starting_2013-09-09.csv',\n",
       " './datasets/sales_week_starting_2013-05-20.csv',\n",
       " './datasets/sales_week_starting_2013-05-27.csv',\n",
       " './datasets/sales_week_starting_2012-11-19.csv',\n",
       " './datasets/sales_week_starting_2013-07-22.csv',\n",
       " './datasets/sales_week_starting_2013-02-11.csv',\n",
       " './datasets/sales_week_starting_2012-11-26.csv',\n",
       " './datasets/sales_week_starting_2013-07-08.csv',\n",
       " './datasets/sales_week_starting_2013-02-04.csv',\n",
       " './datasets/sales_week_starting_2012-12-10.csv',\n",
       " './datasets/sales_week_starting_2012-10-15.csv',\n",
       " './datasets/sales_week_starting_2012-10-01.csv',\n",
       " './datasets/sales_week_starting_2012-10-29.csv',\n",
       " './datasets/sales_week_starting_2013-06-10.csv',\n",
       " './datasets/sales_week_starting_2013-04-01.csv',\n",
       " './datasets/sales_week_starting_2013-04-15.csv',\n",
       " './datasets/sales_week_starting_2013-04-29.csv',\n",
       " './datasets/sales_week_starting_2013-03-25.csv',\n",
       " './datasets/sales_week_starting_2012-12-17.csv',\n",
       " './datasets/sales_week_starting_2012-12-03.csv',\n",
       " './datasets/sales_week_starting_2013-03-18.csv',\n",
       " './datasets/sales_week_starting_2013-01-21.csv',\n",
       " './datasets/sales_week_starting_2013-08-05.csv',\n",
       " './datasets/sales_week_starting_2013-06-03.csv',\n",
       " './datasets/sales_week_starting_2013-06-17.csv',\n",
       " './datasets/sales_week_starting_2013-08-12.csv']"
      ]
     },
     "execution_count": 10,
     "metadata": {},
     "output_type": "execute_result"
    }
   ],
   "source": [
    "# Display all csv files in datasets directory\n",
    "all_csv_files"
   ]
  },
  {
   "cell_type": "code",
   "execution_count": null,
   "metadata": {},
   "outputs": [
    {
     "data": {
      "text/html": [
       "<div>\n",
       "<style scoped>\n",
       "    .dataframe tbody tr th:only-of-type {\n",
       "        vertical-align: middle;\n",
       "    }\n",
       "\n",
       "    .dataframe tbody tr th {\n",
       "        vertical-align: top;\n",
       "    }\n",
       "\n",
       "    .dataframe thead th {\n",
       "        text-align: right;\n",
       "    }\n",
       "</style>\n",
       "<table border=\"1\" class=\"dataframe\">\n",
       "  <thead>\n",
       "    <tr style=\"text-align: right;\">\n",
       "      <th></th>\n",
       "      <th>sale_time</th>\n",
       "      <th>purchaser_gender</th>\n",
       "    </tr>\n",
       "  </thead>\n",
       "  <tbody>\n",
       "    <tr>\n",
       "      <th>0</th>\n",
       "      <td>2012-10-01 01:42:22</td>\n",
       "      <td>female</td>\n",
       "    </tr>\n",
       "    <tr>\n",
       "      <th>1</th>\n",
       "      <td>2012-10-01 02:24:53</td>\n",
       "      <td>female</td>\n",
       "    </tr>\n",
       "    <tr>\n",
       "      <th>2</th>\n",
       "      <td>2012-10-01 02:25:40</td>\n",
       "      <td>female</td>\n",
       "    </tr>\n",
       "    <tr>\n",
       "      <th>3</th>\n",
       "      <td>2012-10-01 02:30:42</td>\n",
       "      <td>female</td>\n",
       "    </tr>\n",
       "    <tr>\n",
       "      <th>4</th>\n",
       "      <td>2012-10-01 02:51:32</td>\n",
       "      <td>male</td>\n",
       "    </tr>\n",
       "    <tr>\n",
       "      <th>...</th>\n",
       "      <td>...</td>\n",
       "      <td>...</td>\n",
       "    </tr>\n",
       "    <tr>\n",
       "      <th>3540</th>\n",
       "      <td>2012-10-07 22:27:11</td>\n",
       "      <td>female</td>\n",
       "    </tr>\n",
       "    <tr>\n",
       "      <th>3541</th>\n",
       "      <td>2012-10-07 22:42:23</td>\n",
       "      <td>female</td>\n",
       "    </tr>\n",
       "    <tr>\n",
       "      <th>3542</th>\n",
       "      <td>2012-10-07 22:42:31</td>\n",
       "      <td>female</td>\n",
       "    </tr>\n",
       "    <tr>\n",
       "      <th>3543</th>\n",
       "      <td>2012-10-07 23:04:24</td>\n",
       "      <td>female</td>\n",
       "    </tr>\n",
       "    <tr>\n",
       "      <th>3544</th>\n",
       "      <td>2012-10-07 23:37:56</td>\n",
       "      <td>female</td>\n",
       "    </tr>\n",
       "  </tbody>\n",
       "</table>\n",
       "<p>3545 rows × 2 columns</p>\n",
       "</div>"
      ],
      "text/plain": [
       "                sale_time purchaser_gender\n",
       "0     2012-10-01 01:42:22           female\n",
       "1     2012-10-01 02:24:53           female\n",
       "2     2012-10-01 02:25:40           female\n",
       "3     2012-10-01 02:30:42           female\n",
       "4     2012-10-01 02:51:32             male\n",
       "...                   ...              ...\n",
       "3540  2012-10-07 22:27:11           female\n",
       "3541  2012-10-07 22:42:23           female\n",
       "3542  2012-10-07 22:42:31           female\n",
       "3543  2012-10-07 23:04:24           female\n",
       "3544  2012-10-07 23:37:56           female\n",
       "\n",
       "[3545 rows x 2 columns]"
      ]
     },
     "execution_count": 4,
     "metadata": {},
     "output_type": "execute_result"
    }
   ],
   "source": [
    "# Read in a file from the datasets folder\n",
    "file_path = \"./datasets/sales_week_starting_2012-10-01.csv\"\n",
    "df = pd.read_csv(file_path)\n",
    "df"
   ]
  },
  {
   "cell_type": "code",
   "execution_count": null,
   "metadata": {},
   "outputs": [],
   "source": [
    "# Testing that repo is actually set up for real this time"
   ]
  }
 ],
 "metadata": {
  "kernelspec": {
   "display_name": "Python 3",
   "language": "python",
   "name": "python3"
  },
  "language_info": {
   "codemirror_mode": {
    "name": "ipython",
    "version": 3
   },
   "file_extension": ".py",
   "mimetype": "text/x-python",
   "name": "python",
   "nbconvert_exporter": "python",
   "pygments_lexer": "ipython3",
   "version": "3.9.10"
  },
  "orig_nbformat": 4,
  "vscode": {
   "interpreter": {
    "hash": "aee8b7b246df8f9039afb4144a1f6fd8d2ca17a180786b69acc140d282b71a49"
   }
  }
 },
 "nbformat": 4,
 "nbformat_minor": 2
}
